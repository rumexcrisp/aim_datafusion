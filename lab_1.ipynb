{
 "cells": [
  {
   "cell_type": "code",
   "execution_count": 94,
   "metadata": {},
   "outputs": [],
   "source": [
    "import pandas as pd\n",
    "import numpy as np\n",
    "import matplotlib.pyplot as plt\n",
    "import random\n",
    "\n",
    "DATAFILE = \"data/Leoni.dat\"\n",
    "df = pd.read_csv(DATAFILE, sep=\";\")\n",
    "\n",
    "y = df[\"Schlusskurs\"].values\n",
    "t = df[\"Eintrag\"].values\n",
    "d = pd.to_datetime(df[\"Datum\"], format=\"%d.%m.%Y\")\n",
    "u = np.zeros(len(y))\n",
    "\n",
    "Ts = t[1] - t[0]\n",
    "# y[0:40]\n",
    "# len(y)"
   ]
  },
  {
   "cell_type": "code",
   "execution_count": 95,
   "metadata": {},
   "outputs": [],
   "source": [
    "y_rand_var = []\n",
    "for i in range(0,3,1):\n",
    "    y_rand_temp = random.choices(y[0:60], k=30)\n",
    "\n",
    "    y_rand_var.append(np.var(y_rand_temp))\n",
    "    # y_rand_mean = np.mean(y_rand_temp)\n",
    "    # y_rand_var_temp = np.var(y_rand_temp)\n",
    "    # y_rand_var = y_rand_var_temp if y_rand_var_temp < y_rand_var else y_rand_var\n",
    "    # if (y_rand_var_temp < y_rand_var):\n",
    "    #     y_rand_var = y_rand_var_temp\n",
    "\n",
    "R = min(y_rand_var)\n",
    "Q = 1e-4"
   ]
  },
  {
   "cell_type": "code",
   "execution_count": 96,
   "metadata": {},
   "outputs": [],
   "source": [
    "# Define system matrices\n",
    "Ad = np.array([[1, Ts], [0, 1]])\n",
    "Bd = np.array([[0], [0]])\n",
    "C = np.array([[1, 0]])\n",
    "D = np.array([0])\n",
    "Gd = np.array([[Ts], [1]])\n",
    "\n",
    "# Initialization\n",
    "x_dach = np.array([y[0], 0])\n",
    "P_dach = 50 * np.eye(2)\n"
   ]
  },
  {
   "cell_type": "code",
   "execution_count": 97,
   "metadata": {},
   "outputs": [
    {
     "ename": "ValueError",
     "evalue": "setting an array element with a sequence.",
     "output_type": "error",
     "traceback": [
      "\u001b[1;31m---------------------------------------------------------------------------\u001b[0m",
      "\u001b[1;31mTypeError\u001b[0m                                 Traceback (most recent call last)",
      "\u001b[1;31mTypeError\u001b[0m: only size-1 arrays can be converted to Python scalars",
      "\nThe above exception was the direct cause of the following exception:\n",
      "\u001b[1;31mValueError\u001b[0m                                Traceback (most recent call last)",
      "Cell \u001b[1;32mIn[97], line 19\u001b[0m\n\u001b[0;32m     17\u001b[0m x_dach \u001b[39m=\u001b[39m Ad \u001b[39m@\u001b[39m x_tilde \u001b[39m+\u001b[39m Bd \u001b[39m*\u001b[39m u[k]\n\u001b[0;32m     18\u001b[0m P_dach \u001b[39m=\u001b[39m Ad \u001b[39m@\u001b[39m P_tilde \u001b[39m@\u001b[39m Ad\u001b[39m.\u001b[39mT \u001b[39m+\u001b[39m Gd \u001b[39m*\u001b[39m Q \u001b[39m*\u001b[39m Gd\u001b[39m.\u001b[39mT\n\u001b[1;32m---> 19\u001b[0m s[k] \u001b[39m=\u001b[39m x_tilde[\u001b[39m0\u001b[39m]\n\u001b[0;32m     20\u001b[0m v[k] \u001b[39m=\u001b[39m x_tilde[\u001b[39m1\u001b[39m]\n\u001b[0;32m     21\u001b[0m K1[k] \u001b[39m=\u001b[39m K[\u001b[39m0\u001b[39m][\u001b[39m0\u001b[39m]\n",
      "\u001b[1;31mValueError\u001b[0m: setting an array element with a sequence."
     ]
    }
   ],
   "source": [
    "\n",
    "# Kalman filter\n",
    "s = np.zeros(len(y))\n",
    "v = np.zeros(len(y))\n",
    "K1 = np.zeros(len(y))\n",
    "K2 = np.zeros(len(y))\n",
    "P_tilde1 = np.zeros(len(y))\n",
    "P_tilde2 = np.zeros(len(y))\n",
    "P_tilde3 = np.zeros(len(y))\n",
    "P_tilde4 = np.zeros(len(y))\n",
    "d_y = np.zeros(len(y))\n",
    "\n",
    "for k in range(len(y)):\n",
    "    d_y[k] = y[k] - (C @ x_dach + D * u[k])\n",
    "    K = P_dach @ C.T @ np.linalg.pinv(C @ P_dach @ C.T + R)\n",
    "    x_tilde = x_dach + K * d_y[k]\n",
    "    P_tilde = (np.eye(len(Bd)) - K @ C) @ P_dach\n",
    "    x_dach = Ad @ x_tilde + Bd * u[k]\n",
    "    P_dach = Ad @ P_tilde @ Ad.T + Gd * Q * Gd.T\n",
    "    s[k] = x_tilde[0]\n",
    "    v[k] = x_tilde[1]\n",
    "    K1[k] = K[0][0]\n",
    "    K2[k] = K[1][0]\n",
    "    P_tilde1[k] = P_tilde[0][0]\n",
    "    P_tilde2[k] = P_tilde[0][1]\n",
    "    P_tilde3[k] = P_tilde[1][0]\n",
    "    P_tilde4[k] = P_tilde[1][1]\n",
    "\n",
    "# Plot results\n",
    "plt.figure(1)\n",
    "plt.subplot(2, 1, 1)\n",
    "plt.plot(t, y, 'k*', t, s, 'b--', t, s + 1.5*np.sqrt(P_tilde1), 'b-', t, s - 1.5*np.sqrt(P_tilde1), 'b-')\n",
    "plt.grid(True)\n",
    "plt.xlabel('Zeit / Tag')\n",
    "plt.ylabel('Kurs / Euro')\n",
    "plt.subplot(2, 1, 2)\n",
    "plt.plot(t, v, 'r-*')\n",
    "plt.grid(True)\n",
    "plt.xlabel('Zeit / Tag')\n",
    "plt.ylabel('Kursänderungen / Euro/Tag')\n",
    "plt.show()"
   ]
  }
 ],
 "metadata": {
  "kernelspec": {
   "display_name": "Python 3",
   "language": "python",
   "name": "python3"
  },
  "language_info": {
   "codemirror_mode": {
    "name": "ipython",
    "version": 3
   },
   "file_extension": ".py",
   "mimetype": "text/x-python",
   "name": "python",
   "nbconvert_exporter": "python",
   "pygments_lexer": "ipython3",
   "version": "3.11.3"
  },
  "orig_nbformat": 4
 },
 "nbformat": 4,
 "nbformat_minor": 2
}

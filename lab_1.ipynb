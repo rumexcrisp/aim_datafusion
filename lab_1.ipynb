{
 "cells": [
  {
   "cell_type": "code",
   "execution_count": 210,
   "metadata": {},
   "outputs": [
    {
     "name": "stdout",
     "output_type": "stream",
     "text": [
      "1\n"
     ]
    }
   ],
   "source": [
    "import pandas as pd\n",
    "import numpy as np\n",
    "import matplotlib.pyplot as plt\n",
    "import random\n",
    "\n",
    "DATAFILE = \"data/Leoni.dat\"\n",
    "df = pd.read_csv(DATAFILE, sep=\";\")\n",
    "\n",
    "y = df[\"Schlusskurs\"].values\n",
    "t = df[\"Eintrag\"].values\n",
    "d = pd.to_datetime(df[\"Datum\"], format=\"%d.%m.%Y\")\n",
    "u = np.zeros(len(y))\n",
    "\n",
    "Ts = t[1] - t[0]\n",
    "\n",
    "print(Ts)\n"
   ]
  },
  {
   "cell_type": "code",
   "execution_count": 211,
   "metadata": {},
   "outputs": [
    {
     "name": "stdout",
     "output_type": "stream",
     "text": [
      "0.9256112222222221\n"
     ]
    }
   ],
   "source": [
    "y_rand_var = []\n",
    "for i in range(0, 3, 1):\n",
    "    y_rand_temp = random.choices(y[0:60], k=30)\n",
    "\n",
    "    y_rand_var.append(np.var(y_rand_temp))\n",
    "    # y_rand_mean = np.mean(y_rand_temp)\n",
    "    # y_rand_var_temp = np.var(y_rand_temp)\n",
    "    # y_rand_var = y_rand_var_temp if y_rand_var_temp < y_rand_var else y_rand_var\n",
    "    # if (y_rand_var_temp < y_rand_var):\n",
    "    #     y_rand_var = y_rand_var_temp\n",
    "\n",
    "R = np.eye(2) * min(y_rand_var)\n",
    "print(R)\n",
    "Q = np.eye(2) * 1e-4\n"
   ]
  },
  {
   "cell_type": "code",
   "execution_count": 212,
   "metadata": {},
   "outputs": [
    {
     "name": "stdout",
     "output_type": "stream",
     "text": [
      "[[1]\n",
      " [1]]\n"
     ]
    }
   ],
   "source": [
    "# Define system matrices\n",
    "Ad = np.array([[1, Ts], [0, 1]])\n",
    "Bd = np.array([[0], [0]])\n",
    "C = np.array([[1, 0]])\n",
    "D = np.array([0])\n",
    "Gd = np.array([[Ts], [1]])\n",
    "\n",
    "# Initialization\n",
    "x_dach = np.array([y[0], 0])\n",
    "P_dach = 50 * np.eye(2)\n",
    "\n",
    "print(Gd)\n"
   ]
  },
  {
   "cell_type": "code",
   "execution_count": 213,
   "metadata": {},
   "outputs": [
    {
     "name": "stdout",
     "output_type": "stream",
     "text": [
      "[29.87 29.87 29.87 ... 29.87 29.87 29.87]\n"
     ]
    },
    {
     "ename": "IndexError",
     "evalue": "index 1 is out of bounds for axis 0 with size 1",
     "output_type": "error",
     "traceback": [
      "\u001b[1;31m---------------------------------------------------------------------------\u001b[0m",
      "\u001b[1;31mIndexError\u001b[0m                                Traceback (most recent call last)",
      "Cell \u001b[1;32mIn[213], line 17\u001b[0m\n\u001b[0;32m     10\u001b[0m d_y \u001b[39m=\u001b[39m np\u001b[39m.\u001b[39mzeros(\u001b[39mlen\u001b[39m(y))\n\u001b[0;32m     12\u001b[0m \u001b[39mfor\u001b[39;00m k \u001b[39min\u001b[39;00m \u001b[39mrange\u001b[39m(\u001b[39mlen\u001b[39m(y)):\n\u001b[0;32m     13\u001b[0m     \u001b[39m# print((C @ x_dach + D[k] * u[k]))\u001b[39;00m\n\u001b[0;32m     14\u001b[0m     \u001b[39m# print((D @ u[k]))\u001b[39;00m\n\u001b[0;32m     15\u001b[0m     \u001b[39m# print(y[k] - (C @ x_dach + D * u[k]))\u001b[39;00m\n\u001b[0;32m     16\u001b[0m     \u001b[39m# d_y[k] = y[k] - (C @ x_dach + D @ u[k])\u001b[39;00m\n\u001b[1;32m---> 17\u001b[0m     d_y[k] \u001b[39m=\u001b[39m y[k] \u001b[39m-\u001b[39m (C \u001b[39m@\u001b[39m x_dach \u001b[39m+\u001b[39m D[k] \u001b[39m*\u001b[39m u[k])\n\u001b[0;32m     18\u001b[0m     K \u001b[39m=\u001b[39m P_dach \u001b[39m@\u001b[39m C\u001b[39m.\u001b[39mT \u001b[39m@\u001b[39m np\u001b[39m.\u001b[39mlinalg\u001b[39m.\u001b[39mpinv(C \u001b[39m@\u001b[39m P_dach \u001b[39m@\u001b[39m C\u001b[39m.\u001b[39mT \u001b[39m+\u001b[39m R)\n\u001b[0;32m     19\u001b[0m     \u001b[39m# x_tilde = x_dach + K @ d_y[k]\u001b[39;00m\n\u001b[0;32m     20\u001b[0m     \u001b[39m# print((K @ d_y.reshape(1, -1)).shape)\u001b[39;00m\n\u001b[0;32m     21\u001b[0m     \u001b[39m# print(x_dach)\u001b[39;00m\n",
      "\u001b[1;31mIndexError\u001b[0m: index 1 is out of bounds for axis 0 with size 1"
     ]
    }
   ],
   "source": [
    "# Kalman filter\n",
    "s = np.zeros(len(y))\n",
    "v = np.zeros(len(y))\n",
    "K1 = np.zeros(len(y))\n",
    "K2 = np.zeros(len(y))\n",
    "P_tilde1 = np.zeros(len(y))\n",
    "P_tilde2 = np.zeros(len(y))\n",
    "P_tilde3 = np.zeros(len(y))\n",
    "P_tilde4 = np.zeros(len(y))\n",
    "d_y = np.zeros(len(y))\n",
    "\n",
    "for k in range(len(y)):\n",
    "    # print((C @ x_dach + D[k] * u[k]))\n",
    "    # print((D @ u[k]))\n",
    "    # print(y[k] - (C @ x_dach + D * u[k]))\n",
    "    # d_y[k] = y[k] - (C @ x_dach + D @ u[k])\n",
    "    d_y[k] = y[k] - (C @ x_dach + D[k] * u[k])\n",
    "    K = P_dach @ C.T @ np.linalg.pinv(C @ P_dach @ C.T + R)\n",
    "    # x_tilde = x_dach + K @ d_y[k]\n",
    "    # print((K @ d_y.reshape(1, -1)).shape)\n",
    "    # print(x_dach)\n",
    "    x_tilde = x_dach[0] + K @ d_y.reshape(1, -1)\n",
    "    P_tilde = (np.eye(len(Bd)) - K @ C) @ P_dach\n",
    "    x_dach = Ad @ x_tilde + Bd @ u[k].reshape(-1, 1)\n",
    "    # P_dach = Ad @ P_tilde @ Ad.T + Gd @ Q @ Gd.T\n",
    "\n",
    "    print(x_tilde[1])\n",
    "\n",
    "    P_dach = Ad @ P_tilde @ Ad.T + Gd.T @ Q @ Gd\n",
    "    s[k] = x_tilde[0][0]\n",
    "    v[k] = x_tilde[1][0]\n",
    "    K1[k] = K[0][0]\n",
    "    K2[k] = K[1][0]\n",
    "    P_tilde1[k] = P_tilde[0][0]\n",
    "    P_tilde2[k] = P_tilde[0][1]\n",
    "    P_tilde3[k] = P_tilde[1][0]\n",
    "    P_tilde4[k] = P_tilde[1][1]\n",
    "\n",
    "# Plot results\n",
    "plt.figure(1)\n",
    "plt.subplot(2, 1, 1)\n",
    "plt.plot(\n",
    "    t,\n",
    "    y,\n",
    "    \"k*\",\n",
    "    t,\n",
    "    s,\n",
    "    \"b--\",\n",
    "    t,\n",
    "    s + 1.5 * np.sqrt(P_tilde1),\n",
    "    \"b-\",\n",
    "    t,\n",
    "    s - 1.5 * np.sqrt(P_tilde1),\n",
    "    \"b-\",\n",
    ")\n",
    "plt.grid(True)\n",
    "plt.xlabel(\"Zeit / Tag\")\n",
    "plt.ylabel(\"Kurs / Euro\")\n",
    "plt.subplot(2, 1, 2)\n",
    "plt.plot(t, v, \"r-*\")\n",
    "plt.grid(True)\n",
    "plt.xlabel(\"Zeit / Tag\")\n",
    "plt.ylabel(\"Kursänderungen / Euro/Tag\")\n",
    "plt.show()\n"
   ]
  }
 ],
 "metadata": {
  "kernelspec": {
   "display_name": "Python 3",
   "language": "python",
   "name": "python3"
  },
  "language_info": {
   "codemirror_mode": {
    "name": "ipython",
    "version": 3
   },
   "file_extension": ".py",
   "mimetype": "text/x-python",
   "name": "python",
   "nbconvert_exporter": "python",
   "pygments_lexer": "ipython3",
   "version": "3.11.3"
  },
  "orig_nbformat": 4
 },
 "nbformat": 4,
 "nbformat_minor": 2
}

{
 "cells": [
  {
   "cell_type": "code",
   "execution_count": 50,
   "metadata": {},
   "outputs": [
    {
     "name": "stdout",
     "output_type": "stream",
     "text": [
      "       time   position  acceleration\n",
      "0     0.011   0.938599           NaN\n",
      "1     0.060        NaN      0.019471\n",
      "2     0.150        NaN     -0.016152\n",
      "3     0.260        NaN      0.021454\n",
      "4     0.360        NaN      0.004004\n",
      "..      ...        ...           ...\n",
      "235  19.571  38.916309           NaN\n",
      "236  19.640        NaN      0.018039\n",
      "237  19.760        NaN      0.034991\n",
      "238  19.830        NaN     -0.005509\n",
      "239  19.960        NaN      0.014985\n",
      "\n",
      "[240 rows x 3 columns]\n"
     ]
    }
   ],
   "source": [
    "import pandas as pd\n",
    "import numpy as np\n",
    "import matplotlib.pyplot as plt\n",
    "import random\n",
    "\n",
    "DATAFILE = \"data/Asynchron_data_in.dat\"\n",
    "df = pd.read_csv(DATAFILE, sep=\" \")\n",
    "t = df[\"time\"].values\n",
    "y = df[\"position\"].values\n",
    "a = df[\"acceleration\"].values\n",
    "# u = np.zeros((y.shape[0], 1))\n",
    "Ts = t[1] - t[0]\n",
    "\n",
    "print(df)\n"
   ]
  },
  {
   "cell_type": "code",
   "execution_count": 51,
   "metadata": {},
   "outputs": [
    {
     "name": "stdout",
     "output_type": "stream",
     "text": [
      "(3, 3)\n"
     ]
    }
   ],
   "source": [
    "# Define system matrices // Gamma filter\n",
    "Ad = np.array([[1, Ts, 0.5 * Ts**2], [0, 1, Ts], [0, 0, 1]])\n",
    "Bd = np.array([[0], [0], [0]])\n",
    "C = np.array([[1, 0, 0]])  # dont think this is correct\n",
    "# D = np.array([0])\n",
    "Gd = np.array([[0.5 * Ts**2], [Ts], [1]])\n",
    "\n",
    "# Initialization\n",
    "x_dach = np.array([y[0], 0])\n",
    "P_dach = 50 * np.eye(2)\n",
    "\n",
    "print(Ad.shape)\n"
   ]
  },
  {
   "cell_type": "code",
   "execution_count": 52,
   "metadata": {},
   "outputs": [
    {
     "name": "stdout",
     "output_type": "stream",
     "text": [
      "[[212.79783295   0.           0.        ]\n",
      " [  0.         212.79783295   0.        ]\n",
      " [  0.           0.         212.79783295]]\n"
     ]
    }
   ],
   "source": [
    "y_rand_temp = []\n",
    "y_rand_var = []\n",
    "\n",
    "for i in y:\n",
    "    if str(i) != \"nan\":\n",
    "        # print(i)\n",
    "        y_rand_temp.append(i)\n",
    "\n",
    "# print(len(y_rand_temp))\n",
    "\n",
    "for i in range(0, 3, 1):\n",
    "    y_rand_temp2 = random.choices(y_rand_temp[0 : len(y_rand_temp)], k=10)\n",
    "\n",
    "    # print(y_rand_temp)\n",
    "\n",
    "    y_rand_var.append(np.var(y_rand_temp))\n",
    "    # y_rand_mean = np.mean(y_rand_temp)\n",
    "    # y_rand_var_temp = np.var(y_rand_temp)\n",
    "    # y_rand_var = y_rand_var_temp if y_rand_var_temp < y_rand_var else y_rand_var\n",
    "    # if (y_rand_var_temp < y_rand_var):\n",
    "    #     y_rand_var = y_rand_var_temp\n",
    "\n",
    "# print(y_rand_temp2)\n",
    "\n",
    "R = np.eye(3) * min(y_rand_var)\n",
    "print(R)\n",
    "Q = np.eye(3) * 1e-4\n",
    "\n",
    "# print(y)  # todo\n"
   ]
  },
  {
   "cell_type": "code",
   "execution_count": 66,
   "metadata": {},
   "outputs": [
    {
     "name": "stdout",
     "output_type": "stream",
     "text": [
      "(240,)\n",
      "0.0\n"
     ]
    }
   ],
   "source": [
    "# Kalman filter\n",
    "s = np.zeros(len(y))\n",
    "v = np.zeros(len(y))\n",
    "K1 = np.zeros(len(y))\n",
    "K2 = np.zeros(len(y))\n",
    "P_tilde1 = np.zeros(len(y))\n",
    "P_tilde2 = np.zeros(len(y))\n",
    "P_tilde3 = np.zeros(len(y))\n",
    "P_tilde4 = np.zeros(len(y))\n",
    "d_y = np.zeros(len(y))\n",
    "\n",
    "x_dach = np.zeros(len(y))\n",
    "P_dach = np.zeros(len(y))\n",
    "K = np.zeros(len(y))\n",
    "\n",
    "P_dach[0] = 100 * Q[0][0]\n",
    "x_dach[0] = y[0]\n",
    "\n",
    "print(K.shape)\n",
    "print(P_dach[3] / (P_dach[3] + R[0][0]))\n",
    "\n",
    "for k in range(len(y) - 1):\n",
    "    # print(d_y[k])\n",
    "    # x_dach =\n",
    "    K[k] = P_dach[k] / (P_dach[k] + R[0][0])\n",
    "    x_dach[k + 1] = x_dach[k] + K[k] * (y[k] - x_dach[k])\n",
    "    d_y[k] = y[k]\n"
   ]
  }
 ],
 "metadata": {
  "kernelspec": {
   "display_name": "Python 3",
   "language": "python",
   "name": "python3"
  },
  "language_info": {
   "codemirror_mode": {
    "name": "ipython",
    "version": 3
   },
   "file_extension": ".py",
   "mimetype": "text/x-python",
   "name": "python",
   "nbconvert_exporter": "python",
   "pygments_lexer": "ipython3",
   "version": "3.11.3"
  },
  "orig_nbformat": 4
 },
 "nbformat": 4,
 "nbformat_minor": 2
}

{
 "cells": [
  {
   "cell_type": "code",
   "execution_count": 85,
   "metadata": {},
   "outputs": [],
   "source": [
    "import pandas as pd\n",
    "import numpy as np\n",
    "import matplotlib.pyplot as plt\n",
    "import random\n",
    "\n",
    "DATAFILE = \"data/Asynchron_data_in.dat\"\n",
    "df = pd.read_csv(DATAFILE, sep=\" \")\n",
    "t = df[\"time\"].values\n",
    "y = df[\"position\"].values\n",
    "a = df[\"acceleration\"].values\n",
    "Ts = t[1] - t[0]"
   ]
  },
  {
   "cell_type": "code",
   "execution_count": 86,
   "metadata": {},
   "outputs": [],
   "source": [
    "# Define system matrices\n",
    "Ad = np.array([[1, Ts, 0.5 * Ts**2],\n",
    "               [0, 1, Ts],\n",
    "               [0, 0, 1]])\n",
    "Bd = np.array([[0],\n",
    "               [0],\n",
    "               [0]])\n",
    "C_p = np.array([1, 0, 0])           # C matrix during position value\n",
    "C_a = np.array([0, 0, 1])           # C matrix during acceleration value\n",
    "D = np.array([0])\n",
    "Gd = np.array([[0.5 * Ts**2],\n",
    "               [Ts],\n",
    "               [1]])\n",
    "               \n",
    "# Initialization\n",
    "x_dach = np.array([[y[0]],\n",
    "                   [0],\n",
    "                   [0]])            # estimate\n",
    "P_dach = 50 * np.eye(len(Bd))\n",
    "d_y = np.zeros(len(y))              # new error\n",
    "y_dach = np.zeros(len(y))           # error\n",
    "s = np.zeros(len(y))                # prediction output array\n",
    "s_dach = np.zeros(len(y))\n",
    "v = np.zeros(len(y))                # variation\n",
    "u = np.zeros(len(y))\n",
    "x_tilde = np.zeros((3, 1))          # 3 rows, 1 column\n",
    "P_tilde = np.zeros((3, 3))          # 3 rows, 3 columns\n",
    "\n",
    "# P_tilde0 = np.zeros(len(y))\n",
    "# P_tilde1 = np.zeros(len(y))\n",
    "# P_tilde2 = np.zeros(len(y))\n",
    "# P_tilde3 = np.zeros(len(y))"
   ]
  },
  {
   "cell_type": "code",
   "execution_count": 87,
   "metadata": {},
   "outputs": [],
   "source": [
    "R = np.array([10])          # ToDo: calculate\n",
    "Q = np.array([0.00016667])"
   ]
  },
  {
   "cell_type": "code",
   "execution_count": 88,
   "metadata": {},
   "outputs": [
    {
     "name": "stdout",
     "output_type": "stream",
     "text": [
      "[[2.25456062e-11]\n",
      " [2.25456062e-11]\n",
      " [2.25456062e-11]]\n",
      "[[nan]\n",
      " [nan]\n",
      " [nan]]\n",
      "[[nan]\n",
      " [nan]\n",
      " [nan]]\n"
     ]
    }
   ],
   "source": [
    "for k in range(0, 3 ,1):\n",
    "    x_dach = Ad @ x_tilde + Bd * u[k]\n",
    "    P_dach = Ad @ P_tilde @ Ad.T + Gd @ Q * Gd.T\n",
    "\n",
    "    if str(y) != \"nan\":\n",
    "        C = C_p\n",
    "    else:\n",
    "        C = C_a\n",
    "\n",
    "    y_dach[k]= (C @ x_dach + D * u[k])\n",
    "    d_y[k] = y[k] - y_dach[k]\n",
    "    K = P_dach @ C.reshape(-1,1)\n",
    "    # K2 = np.linalg.pinv(C @ P_dach @ C.reshape(-1,1) + R) # does not work\n",
    "    K = K * (C @ P_dach @ C.reshape(-1,1) + R) ** (-1)\n",
    "    x_tilde = x_dach + K * d_y[k]\n",
    "    P_tilde = (np.eye(len(Bd)) - K * C) @ P_dach\n",
    "    print(x_tilde)\n",
    "\n",
    "    s[k] = x_tilde[0]\n",
    "    v[k] = x_tilde[1]\n",
    "    s_dach[k] = x_dach[0]\n",
    "\n",
    "    # P_tilde0 = P_tilde[0][0]\n",
    "    # P_tilde1 = P_tilde[0][1]\n",
    "    # P_tilde2 = P_tilde[1][0]\n",
    "    # P_tilde3 = P_tilde[1][1]"
   ]
  }
 ],
 "metadata": {
  "kernelspec": {
   "display_name": "Python 3",
   "language": "python",
   "name": "python3"
  },
  "language_info": {
   "codemirror_mode": {
    "name": "ipython",
    "version": 3
   },
   "file_extension": ".py",
   "mimetype": "text/x-python",
   "name": "python",
   "nbconvert_exporter": "python",
   "pygments_lexer": "ipython3",
   "version": "3.11.3"
  },
  "orig_nbformat": 4
 },
 "nbformat": 4,
 "nbformat_minor": 2
}
